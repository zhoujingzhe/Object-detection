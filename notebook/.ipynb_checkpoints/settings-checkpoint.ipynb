{
 "cells": [
  {
   "cell_type": "code",
   "execution_count": null,
   "metadata": {},
   "outputs": [],
   "source": [
    "import import_ipynb\n",
    "\n",
    "settings = {\n",
    "    \"setting7\": {\n",
    "        \"loss\": \"Loss_v2\",\n",
    "        \"model\": \"DecayByEpoch\", \n",
    "        \"weight_Classification_loss\": 100,\n",
    "        \"weight_Object_loss\": 1000,\n",
    "        \"weight_Localization_loss\": 1,\n",
    "        \"lr\": 0.01,\n",
    "        \"decay\": 0.01,\n",
    "        \"weight_file\": \"weight-setting7\",\n",
    "        \"loss_file\": \"losses-setting5.txt\",\n",
    "        \"batch_size\": 50,\n",
    "        \"epochs\": 250\n",
    "    }\n",
    "}\n",
    "\n",
    "setting = settings[\"setting7\"]"
   ]
  }
 ],
 "metadata": {
  "kernelspec": {
   "display_name": "Python 3",
   "language": "python",
   "name": "python3"
  },
  "language_info": {
   "codemirror_mode": {
    "name": "ipython",
    "version": 3
   },
   "file_extension": ".py",
   "mimetype": "text/x-python",
   "name": "python",
   "nbconvert_exporter": "python",
   "pygments_lexer": "ipython3",
   "version": "3.6.6"
  }
 },
 "nbformat": 4,
 "nbformat_minor": 2
}
