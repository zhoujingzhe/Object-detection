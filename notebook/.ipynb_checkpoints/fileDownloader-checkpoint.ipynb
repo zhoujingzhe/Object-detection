{
 "cells": [
  {
   "cell_type": "markdown",
   "metadata": {},
   "source": [
    "1. Install Kaggle API and remember to add .kaggle/kaggle.json \n",
    "2. Update the permission in download.sh if needed. \n",
    "3. Files can be found in \n",
    "    1) training dataset: group2/images/0 \n",
    "    2) testing dataset: group2/images/1"
   ]
  },
  {
   "cell_type": "code",
   "execution_count": null,
   "metadata": {},
   "outputs": [],
   "source": [
    "import subprocess\n",
    "\n",
    "subprocess.call(['./downloader.sh'])\n",
    "\n",
    "print(\"file downloader is finished\")"
   ]
  }
 ],
 "metadata": {
  "kernelspec": {
   "display_name": "Python 3",
   "language": "python",
   "name": "python3"
  },
  "language_info": {
   "codemirror_mode": {
    "name": "ipython",
    "version": 3
   },
   "file_extension": ".py",
   "mimetype": "text/x-python",
   "name": "python",
   "nbconvert_exporter": "python",
   "pygments_lexer": "ipython3",
   "version": "3.6.6"
  }
 },
 "nbformat": 4,
 "nbformat_minor": 2
}
